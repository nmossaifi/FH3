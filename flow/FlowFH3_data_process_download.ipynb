{
 "cells": [
  {
   "cell_type": "code",
   "execution_count": 1,
   "id": "37d63906-3448-4521-8b55-8cd9e50f36aa",
   "metadata": {},
   "outputs": [
    {
     "name": "stderr",
     "output_type": "stream",
     "text": [
      "\n",
      "Attaching package: ‘dplyr’\n",
      "\n",
      "\n",
      "The following object is masked from ‘package:flowCore’:\n",
      "\n",
      "    filter\n",
      "\n",
      "\n",
      "The following objects are masked from ‘package:stats’:\n",
      "\n",
      "    filter, lag\n",
      "\n",
      "\n",
      "The following objects are masked from ‘package:base’:\n",
      "\n",
      "    intersect, setdiff, setequal, union\n",
      "\n",
      "\n"
     ]
    }
   ],
   "source": [
    "library(hise)\n",
    "library(flowCore)\n",
    "library(dplyr)\n",
    "library(glue)"
   ]
  },
  {
   "cell_type": "code",
   "execution_count": 72,
   "id": "e5b89883-92fc-46bf-9624-e4df668ab5fa",
   "metadata": {},
   "outputs": [],
   "source": [
    "# add metadata from LIMS\n",
    "LIMS_meta <- data.table::fread(\"/home/jupyter/FH3/flow/Content_20220315_122909_subjectGUIDs_PTIDs.txt\")\n",
    "LIMS_meta <- select(LIMS_meta, c(\"cntn_cf_patient\", \"cntn_cf_externalPatientID\")) %>% distinct()\n",
    "lims_mat <- dplyr::right_join(LIMS_meta, mat, by = c(\"cntn_cf_patient\" = \"subject.subjectGuid\"))\n"
   ]
  },
  {
   "cell_type": "code",
   "execution_count": 77,
   "id": "92ceb454-3e30-405a-b4b8-f1176b069bdb",
   "metadata": {},
   "outputs": [],
   "source": [
    "# filter for samples in orig manuscript\n",
    "manuscript_meta <- data.table::fread(\"/home/jupyter/FH3/flow/Fig-S1c-Flow-PCA_fromSVV.txt\")\n",
    "manu_mat <- lims_mat %>% dplyr::filter(cntn_cf_externalPatientID %in% manuscript_meta$patientID)\n",
    "c <- manuscript_meta[,c(1:6,9:19)]\n",
    "c1 <- filter(c, Sex %in% c(\"male\", \"female\"))\n",
    "\n",
    "PCA_samples <- filter(c1, Status == \"Covid\" & Age > 44)"
   ]
  },
  {
   "cell_type": "code",
   "execution_count": 78,
   "id": "ebb7bb32-21a1-4dc8-88c7-a0c2eb291ba4",
   "metadata": {},
   "outputs": [
    {
     "data": {
      "text/html": [
       "<table class=\"dataframe\">\n",
       "<caption>A data.table: 1 × 198</caption>\n",
       "<thead>\n",
       "\t<tr><th scope=col>V1</th><th scope=col>PTID_visit</th><th scope=col>PTID</th><th scope=col>visit</th><th scope=col>FH.Subject.ID</th><th scope=col>Status</th><th scope=col>Healthy_consider</th><th scope=col>scRNA_available</th><th scope=col>Subject</th><th scope=col>Visit</th><th scope=col>⋯</th><th scope=col>StotpctMBCslope</th><th scope=col>StotpctMBCday30</th><th scope=col>StotpctMBCday180</th><th scope=col>SIgGpctMBCintercept</th><th scope=col>SIgGpctMBCslope</th><th scope=col>SIgGpctMBCday30</th><th scope=col>SIgGpctMBCday180</th><th scope=col>nAb.GMT</th><th scope=col>Stage</th><th scope=col>age_bin</th></tr>\n",
       "\t<tr><th scope=col>&lt;chr&gt;</th><th scope=col>&lt;chr&gt;</th><th scope=col>&lt;chr&gt;</th><th scope=col>&lt;chr&gt;</th><th scope=col>&lt;int&gt;</th><th scope=col>&lt;chr&gt;</th><th scope=col>&lt;int&gt;</th><th scope=col>&lt;int&gt;</th><th scope=col>&lt;chr&gt;</th><th scope=col>&lt;chr&gt;</th><th scope=col>⋯</th><th scope=col>&lt;dbl&gt;</th><th scope=col>&lt;dbl&gt;</th><th scope=col>&lt;dbl&gt;</th><th scope=col>&lt;dbl&gt;</th><th scope=col>&lt;dbl&gt;</th><th scope=col>&lt;dbl&gt;</th><th scope=col>&lt;dbl&gt;</th><th scope=col>&lt;dbl&gt;</th><th scope=col>&lt;chr&gt;</th><th scope=col>&lt;chr&gt;</th></tr>\n",
       "</thead>\n",
       "<tbody>\n",
       "\t<tr><td>32251_1</td><td>32251_1</td><td>32251</td><td>1</td><td>32251</td><td>Covid</td><td>0</td><td>1</td><td>FH3043</td><td>FH3 COVID-19 Visit 1</td><td>⋯</td><td>NA</td><td>NA</td><td>NA</td><td>NA</td><td>NA</td><td>NA</td><td>NA</td><td>10</td><td>Early</td><td>olderadults</td></tr>\n",
       "</tbody>\n",
       "</table>\n"
      ],
      "text/latex": [
       "A data.table: 1 × 198\n",
       "\\begin{tabular}{lllllllllllllllllllll}\n",
       " V1 & PTID\\_visit & PTID & visit & FH.Subject.ID & Status & Healthy\\_consider & scRNA\\_available & Subject & Visit & ⋯ & StotpctMBCslope & StotpctMBCday30 & StotpctMBCday180 & SIgGpctMBCintercept & SIgGpctMBCslope & SIgGpctMBCday30 & SIgGpctMBCday180 & nAb.GMT & Stage & age\\_bin\\\\\n",
       " <chr> & <chr> & <chr> & <chr> & <int> & <chr> & <int> & <int> & <chr> & <chr> & ⋯ & <dbl> & <dbl> & <dbl> & <dbl> & <dbl> & <dbl> & <dbl> & <dbl> & <chr> & <chr>\\\\\n",
       "\\hline\n",
       "\t 32251\\_1 & 32251\\_1 & 32251 & 1 & 32251 & Covid & 0 & 1 & FH3043 & FH3 COVID-19 Visit 1 & ⋯ & NA & NA & NA & NA & NA & NA & NA & 10 & Early & olderadults\\\\\n",
       "\\end{tabular}\n"
      ],
      "text/markdown": [
       "\n",
       "A data.table: 1 × 198\n",
       "\n",
       "| V1 &lt;chr&gt; | PTID_visit &lt;chr&gt; | PTID &lt;chr&gt; | visit &lt;chr&gt; | FH.Subject.ID &lt;int&gt; | Status &lt;chr&gt; | Healthy_consider &lt;int&gt; | scRNA_available &lt;int&gt; | Subject &lt;chr&gt; | Visit &lt;chr&gt; | ⋯ ⋯ | StotpctMBCslope &lt;dbl&gt; | StotpctMBCday30 &lt;dbl&gt; | StotpctMBCday180 &lt;dbl&gt; | SIgGpctMBCintercept &lt;dbl&gt; | SIgGpctMBCslope &lt;dbl&gt; | SIgGpctMBCday30 &lt;dbl&gt; | SIgGpctMBCday180 &lt;dbl&gt; | nAb.GMT &lt;dbl&gt; | Stage &lt;chr&gt; | age_bin &lt;chr&gt; |\n",
       "|---|---|---|---|---|---|---|---|---|---|---|---|---|---|---|---|---|---|---|---|---|\n",
       "| 32251_1 | 32251_1 | 32251 | 1 | 32251 | Covid | 0 | 1 | FH3043 | FH3 COVID-19 Visit 1 | ⋯ | NA | NA | NA | NA | NA | NA | NA | 10 | Early | olderadults |\n",
       "\n"
      ],
      "text/plain": [
       "  V1      PTID_visit PTID  visit FH.Subject.ID Status Healthy_consider\n",
       "1 32251_1 32251_1    32251 1     32251         Covid  0               \n",
       "  scRNA_available Subject Visit                ⋯ StotpctMBCslope\n",
       "1 1               FH3043  FH3 COVID-19 Visit 1 ⋯ NA             \n",
       "  StotpctMBCday30 StotpctMBCday180 SIgGpctMBCintercept SIgGpctMBCslope\n",
       "1 NA              NA               NA                  NA             \n",
       "  SIgGpctMBCday30 SIgGpctMBCday180 nAb.GMT Stage age_bin    \n",
       "1 NA              NA               10      Early olderadults"
      ]
     },
     "metadata": {},
     "output_type": "display_data"
    }
   ],
   "source": [
    "# add clinical meta\n",
    "add_meta <- data.table::fread(\"/home/jupyter/FH3/flow/COVID-Longitudinal-metadata_fromSVV.txt\")\n",
    "add_meta$PTID <- as.character(add_meta$PTID)\n",
    "add_meta$visit <- as.character(add_meta$visit)\n",
    "manu_mat$visit <- stringr::str_sub(manu_mat$sample.visitName, start= -1) \n",
    "fullmeta_mat <- dplyr::left_join(manu_mat, add_meta, \n",
    "                                  c(\"cntn_cf_externalPatientID\" = \"PTID\",\n",
    "                                   \"visit\" = \"visit\"))\n",
    "\n",
    "long_samples <- filter(add_meta, age_bin == \"olderadults\" & Status == \"Covid\")\n",
    "\n"
   ]
  },
  {
   "cell_type": "code",
   "execution_count": null,
   "id": "de8b0736-751e-4419-a0e5-a215f2d5916f",
   "metadata": {},
   "outputs": [
    {
     "data": {
      "text/plain": [
       "        \n",
       "         Covid Healthy\n",
       "  Female    10      10\n",
       "  Male       8      13"
      ]
     },
     "metadata": {},
     "output_type": "display_data"
    },
    {
     "data": {
      "text/plain": [
       "        \n",
       "         olderadults youngeradults\n",
       "  Female          12             8\n",
       "  Male            15             6"
      ]
     },
     "metadata": {},
     "output_type": "display_data"
    },
    {
     "data": {
      "text/html": [
       "<table class=\"dataframe\">\n",
       "<caption>A grouped_df: 4 × 3</caption>\n",
       "<thead>\n",
       "\t<tr><th scope=col>Status</th><th scope=col>age_bin</th><th scope=col>median_age</th></tr>\n",
       "\t<tr><th scope=col>&lt;chr&gt;</th><th scope=col>&lt;chr&gt;</th><th scope=col>&lt;dbl&gt;</th></tr>\n",
       "</thead>\n",
       "<tbody>\n",
       "\t<tr><td>Healthy</td><td>olderadults  </td><td>54</td></tr>\n",
       "\t<tr><td>Healthy</td><td>youngeradults</td><td>34</td></tr>\n",
       "\t<tr><td>Covid  </td><td>olderadults  </td><td>57</td></tr>\n",
       "\t<tr><td>Covid  </td><td>youngeradults</td><td>29</td></tr>\n",
       "</tbody>\n",
       "</table>\n"
      ],
      "text/latex": [
       "A grouped\\_df: 4 × 3\n",
       "\\begin{tabular}{lll}\n",
       " Status & age\\_bin & median\\_age\\\\\n",
       " <chr> & <chr> & <dbl>\\\\\n",
       "\\hline\n",
       "\t Healthy & olderadults   & 54\\\\\n",
       "\t Healthy & youngeradults & 34\\\\\n",
       "\t Covid   & olderadults   & 57\\\\\n",
       "\t Covid   & youngeradults & 29\\\\\n",
       "\\end{tabular}\n"
      ],
      "text/markdown": [
       "\n",
       "A grouped_df: 4 × 3\n",
       "\n",
       "| Status &lt;chr&gt; | age_bin &lt;chr&gt; | median_age &lt;dbl&gt; |\n",
       "|---|---|---|\n",
       "| Healthy | olderadults   | 54 |\n",
       "| Healthy | youngeradults | 34 |\n",
       "| Covid   | olderadults   | 57 |\n",
       "| Covid   | youngeradults | 29 |\n",
       "\n"
      ],
      "text/plain": [
       "  Status  age_bin       median_age\n",
       "1 Healthy olderadults   54        \n",
       "2 Healthy youngeradults 34        \n",
       "3 Covid   olderadults   57        \n",
       "4 Covid   youngeradults 29        "
      ]
     },
     "metadata": {},
     "output_type": "display_data"
    },
    {
     "data": {
      "text/plain": [
       "               \n",
       "                Covid Healthy\n",
       "  olderadults      43      16\n",
       "  youngeradults    26       7"
      ]
     },
     "metadata": {},
     "output_type": "display_data"
    }
   ],
   "source": [
    "# check that all samples are present\n",
    "check <- select(fullmeta_mat, c(\"cntn_cf_patient\", \"subject.biologicalSex\", \"Status\", \"age_bin\", \"Age\")) %>% \n",
    "            filter(startsWith(fullmeta_mat$cntn_cf_patient, \"FH\")) %>% distinct()\n",
    "\n",
    "table(check$subject.biologicalSex, check$Status)\n",
    "table(check$subject.biologicalSex, check$age_bin)\n",
    "check %>% group_by(Status, age_bin) %>% mutate(median_age = median(Age, na.rm = TRUE)) %>%\n",
    "        select(Status, age_bin, median_age) %>% distinct()\n",
    "\n",
    "checkg <- fullmeta_mat %>% filter(startsWith(fullmeta_mat$cntn_cf_patient, \"FH\")) %>% \n",
    "            distinct() %>% select(Status, age_bin, cntn_cf_patient, visit) %>% distinct()\n",
    "\n",
    "table(checkg$age_bin, checkg$Status)\n",
    "\n",
    "# c <- filter(checkg, age_bin == \"olderadults\" & Status == \"Covid\")\n",
    "# table(c$visit)"
   ]
  },
  {
   "cell_type": "code",
   "execution_count": null,
   "id": "2b74c43a-e4a0-4478-98e7-fcbe59c1234a",
   "metadata": {},
   "outputs": [],
   "source": [
    "# download fcs files\n",
    "panels <- c(\"PM1\", \"PB1\", \"PT1\")\n",
    "for (i in 1:length(panels)){\n",
    "    mat <- matrix(nrow = 0, ncol = 23)\n",
    "    panel = panels[i]\n",
    "\n",
    "    download_path <- glue::glue(\"/home/jupyter/FH3/flow/fcs/{panel}\")\n",
    "    setwd(dir=download_path)\n",
    "    \n",
    "    filter_list <- list(\n",
    "        cohort.cohortGuid = c(\"FH3\"),\n",
    "        file.panel = panel\n",
    "    )\n",
    "    \n",
    "    filedescdf <- hise::getFileDescriptors(fileType = \"FlowCytometry\",filter = filter_list) %>% \n",
    "            hise::fileDescToDataframe()\n",
    "    mat <- rbind(mat, filedescdf)\n",
    "    \n",
    "    filter_list <-  list(subject.subjectGuid = \"HMN169517\",\n",
    "                    file.panel = panels[i])\n",
    "    filedescdf_bc <- hise::getFileDescriptors(fileType = \"FlowCytometry\",filter = filter_list) %>% \n",
    "            hise::fileDescToDataframe()\n",
    "    mat <- rbind(filedescdf, filedescdf_bc)\n",
    "    \n",
    "    filter_mat <- mat %>% dplyr::filter(sample.id %in% fullmeta_mat$sample.id)\n",
    "    flowfiles_cache <-hise::cacheFiles(list(filter_mat$file.id))\n",
    "}"
   ]
  },
  {
   "cell_type": "code",
   "execution_count": null,
   "id": "523fbd8a-9a1f-46fe-b618-bbc7a7b05c0e",
   "metadata": {},
   "outputs": [],
   "source": []
  }
 ],
 "metadata": {
  "kernelspec": {
   "display_name": "R 4",
   "language": "R",
   "name": "ir"
  },
  "language_info": {
   "codemirror_mode": "r",
   "file_extension": ".r",
   "mimetype": "text/x-r-source",
   "name": "R",
   "pygments_lexer": "r",
   "version": "4.1.2"
  }
 },
 "nbformat": 4,
 "nbformat_minor": 5
}
